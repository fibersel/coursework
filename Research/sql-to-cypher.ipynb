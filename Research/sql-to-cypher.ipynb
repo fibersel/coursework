{
 "cells": [
  {
   "cell_type": "code",
   "execution_count": 37,
   "id": "b78ab5d2",
   "metadata": {},
   "outputs": [],
   "source": [
    "import psycopg2\n",
    "from dataclasses import dataclass\n",
    "import matplotlib.pyplot as plt\n",
    "import networkx as nx\n",
    "from pygraphviz import *"
   ]
  },
  {
   "cell_type": "code",
   "execution_count": 40,
   "id": "65863b87",
   "metadata": {},
   "outputs": [],
   "source": [
    "DB = \"northwind_map\""
   ]
  },
  {
   "cell_type": "code",
   "execution_count": 41,
   "id": "9164fc6f",
   "metadata": {},
   "outputs": [],
   "source": [
    "conn = psycopg2.connect(\"dbname={} user=postgres password=password\".format(DB))\n",
    "cursor = conn.cursor()"
   ]
  },
  {
   "cell_type": "code",
   "execution_count": 4,
   "id": "da42d531",
   "metadata": {},
   "outputs": [],
   "source": [
    "@dataclass\n",
    "class Attr:\n",
    "    name: str\n",
    "    data_type: str\n",
    "    nullable: bool\n",
    "        \n",
    "@dataclass\n",
    "class FK:\n",
    "    source_attr_name: str\n",
    "    target_table: str\n",
    "    target_attr_name: str"
   ]
  },
  {
   "cell_type": "code",
   "execution_count": 5,
   "id": "4739e6a6",
   "metadata": {},
   "outputs": [],
   "source": [
    "class RelationalSchema:\n",
    "    \n",
    "    def __init__(self, tables):\n",
    "        self.tables = tables"
   ]
  },
  {
   "cell_type": "code",
   "execution_count": 6,
   "id": "6c6c71d5",
   "metadata": {},
   "outputs": [],
   "source": [
    "class Table:\n",
    "    def __init__(self, name):\n",
    "        self.name = name\n",
    "        self.attr = []\n",
    "        self.fk = []\n",
    "        self.pk = set()\n",
    "        self.is_referenced = False\n",
    "        self.tuples = []\n",
    "        \n",
    "    def add_attr(self, attr):\n",
    "        self.attr.append(attr)\n",
    "        \n",
    "    def add_fk(self, source_attribute, target_table_name, target_attribute):\n",
    "        self.fk.append(FK(source_attribute, target_table_name, target_attribute))\n",
    "        \n",
    "    def add_pk(self, attr):\n",
    "        self.pk.add(attr)\n",
    "        \n",
    "    def is_m2m(self):\n",
    "        if self.is_referenced:\n",
    "            return False\n",
    "        \n",
    "        refcnt = 0\n",
    "        c = set()\n",
    "        for fk in self.fk:\n",
    "            if fk.source_attr_name not in self.pk:\n",
    "                return False\n",
    "            if fk.target_table not in c:\n",
    "                c.add(target_table)\n",
    "                refcnt += 1\n",
    "        if refcnt != 2:\n",
    "            return False\n",
    "        \n",
    "        return True\n",
    "    \n",
    "    def extract_tables(self):\n",
    "        if not self.is_m2m():\n",
    "            raise RuntimeError(\"exctracting edges is possible only for m2m tables\")\n",
    "            \n",
    "        targets = []\n",
    "        for fk in self.fk:\n",
    "            target_table = fk.target_table\n",
    "            targets.append(target_table)\n",
    "            \n",
    "        return sorted(targets) "
   ]
  },
  {
   "cell_type": "code",
   "execution_count": 7,
   "id": "23d0ba9f",
   "metadata": {},
   "outputs": [],
   "source": [
    "class GraphSchema:\n",
    "    \n",
    "    def __init__(self, nodes, edges):\n",
    "        self.nodes = nodes\n",
    "        self.edges = edges"
   ]
  },
  {
   "cell_type": "code",
   "execution_count": 8,
   "id": "eab9f342",
   "metadata": {},
   "outputs": [],
   "source": [
    "class NodeClass:\n",
    "    def __init__(self, label, nodes, attr, pk):\n",
    "        self.label = label\n",
    "        self.nodes = nodes\n",
    "        self.attr = attr\n",
    "        self.pk = pk\n",
    "    \n",
    "\n",
    "class Node:\n",
    "    def __init__(self, vals, pk):\n",
    "        self.vals = vals\n",
    "\n",
    "        \n",
    "class Edge:\n",
    "    def __init__(self, label, source, target, attr=[], vals=[]):\n",
    "        self.label = label\n",
    "        self.source = source\n",
    "        self.target = target\n",
    "        self.attr = []"
   ]
  },
  {
   "cell_type": "code",
   "execution_count": 9,
   "id": "2cf4a9fd",
   "metadata": {},
   "outputs": [],
   "source": [
    "# process tables"
   ]
  },
  {
   "cell_type": "code",
   "execution_count": 10,
   "id": "8d331afe",
   "metadata": {},
   "outputs": [],
   "source": [
    "tables = {}"
   ]
  },
  {
   "cell_type": "code",
   "execution_count": 49,
   "id": "c7bb70df",
   "metadata": {},
   "outputs": [],
   "source": [
    "cursor.execute(\"select count(*) from suppliers;\")"
   ]
  },
  {
   "cell_type": "code",
   "execution_count": 50,
   "id": "9bd2fece",
   "metadata": {},
   "outputs": [
    {
     "data": {
      "text/plain": [
       "29"
      ]
     },
     "execution_count": 50,
     "metadata": {},
     "output_type": "execute_result"
    }
   ],
   "source": [
    "cursor.fetchall()[0][0]"
   ]
  },
  {
   "cell_type": "code",
   "execution_count": 11,
   "id": "a137d149",
   "metadata": {},
   "outputs": [
    {
     "data": {
      "text/plain": [
       "['suppliers',\n",
       " 'customer_demographics',\n",
       " 'territories',\n",
       " 'shippers',\n",
       " 'orders',\n",
       " 'customer_customer_demo',\n",
       " 'order_details',\n",
       " 'employees',\n",
       " 'categories',\n",
       " 'employee_territories',\n",
       " 'customers',\n",
       " 'products',\n",
       " 'region',\n",
       " 'us_states']"
      ]
     },
     "execution_count": 11,
     "metadata": {},
     "output_type": "execute_result"
    }
   ],
   "source": [
    "cursor.execute(\"\"\"\n",
    "        select distinct table_name\n",
    "        from information_schema.columns\n",
    "        where table_catalog = '{}' and table_schema = 'public';\n",
    "\"\"\".format(DB))\n",
    "\n",
    "table_names = list(map(lambda x: x[0], cursor.fetchall()))\n",
    "\n",
    "table_names"
   ]
  },
  {
   "cell_type": "code",
   "execution_count": 12,
   "id": "4b41574b",
   "metadata": {},
   "outputs": [],
   "source": [
    "q_tpl = \"\"\"\n",
    "    select column_name, data_type, is_nullable\n",
    "    from information_schema.columns\n",
    "    where table_catalog = '{}' and table_schema = 'public' and table_name = '{}';\n",
    "\"\"\"\n",
    "\n",
    "\n",
    "for table_name in table_names:\n",
    "    q = q_tpl.format(DB, table_name)\n",
    "    cursor.execute(q)\n",
    "    \n",
    "    table = Table(table_name)\n",
    "    for column_name, data_type, is_nullable in cursor.fetchall():\n",
    "        is_nullable = True if is_nullable == \"YES\" else False\n",
    "        attr = Attr(column_name, data_type, is_nullable)\n",
    "        table.add_attr(attr)\n",
    "        \n",
    "    tables[table_name] = table"
   ]
  },
  {
   "cell_type": "code",
   "execution_count": 13,
   "id": "4fe30b5a",
   "metadata": {},
   "outputs": [],
   "source": [
    "# process foreign keys"
   ]
  },
  {
   "cell_type": "code",
   "execution_count": 14,
   "id": "a60f6739",
   "metadata": {},
   "outputs": [],
   "source": [
    "cursor.execute(\n",
    "\"\"\"\n",
    "    SELECT\n",
    "        tc.table_name, \n",
    "        kcu.column_name, \n",
    "        ccu.table_name AS foreign_table_name,\n",
    "        ccu.column_name AS foreign_column_name \n",
    "    FROM \n",
    "        information_schema.table_constraints AS tc \n",
    "        JOIN information_schema.key_column_usage AS kcu\n",
    "          ON tc.constraint_name = kcu.constraint_name\n",
    "          AND tc.table_schema = kcu.table_schema\n",
    "        JOIN information_schema.constraint_column_usage AS ccu\n",
    "          ON ccu.constraint_name = tc.constraint_name\n",
    "          AND ccu.table_schema = tc.table_schema\n",
    "    WHERE tc.constraint_type = 'FOREIGN KEY' AND tc.table_name in {};\n",
    "\"\"\".format(tuple(tables.keys()))\n",
    ")\n",
    "\n",
    "\n",
    "for source_table_name, source_attribute, target_table_name, target_attribute in cursor.fetchall():\n",
    "    source_table = tables[source_table_name]\n",
    "    target_table = tables[target_table_name]\n",
    "    target_table.is_referenced = True\n",
    "    source_table.add_fk(source_attribute, target_table_name, target_attribute)"
   ]
  },
  {
   "cell_type": "code",
   "execution_count": 15,
   "id": "7db07045",
   "metadata": {},
   "outputs": [],
   "source": [
    "# process primary keys"
   ]
  },
  {
   "cell_type": "code",
   "execution_count": 16,
   "id": "e68107fd",
   "metadata": {},
   "outputs": [],
   "source": [
    "cursor.execute(\"\"\"\n",
    "    SELECT c.column_name, tc.table_name\n",
    "    FROM information_schema.table_constraints tc \n",
    "    JOIN information_schema.constraint_column_usage AS ccu USING (constraint_schema, constraint_name) \n",
    "    JOIN information_schema.columns AS c ON c.table_schema = tc.constraint_schema\n",
    "      AND tc.table_name = c.table_name AND ccu.column_name = c.column_name\n",
    "    WHERE constraint_type = 'PRIMARY KEY' and tc.table_name in {};\n",
    "\"\"\".format(tuple(tables.keys()))\n",
    ")\n",
    "\n",
    "\n",
    "for column_name, table_name in cursor.fetchall():\n",
    "    table = tables[table_name]\n",
    "    table.add_pk(column_name)"
   ]
  },
  {
   "cell_type": "code",
   "execution_count": 17,
   "id": "75f43518",
   "metadata": {},
   "outputs": [],
   "source": [
    "# process tuples"
   ]
  },
  {
   "cell_type": "code",
   "execution_count": 18,
   "id": "ee75a7e3",
   "metadata": {},
   "outputs": [],
   "source": [
    "q_t = \"\"\"\n",
    "    SELECT {}\n",
    "    FROM {}\n",
    "\"\"\"\n",
    "\n",
    "for name, table in tables.items():\n",
    "    q = q_t.format(\", \".join(map(lambda x: x.name, table.attr)), name)\n",
    "    cursor.execute(q)\n",
    "    table.tuples = cursor.fetchall()"
   ]
  },
  {
   "cell_type": "code",
   "execution_count": 19,
   "id": "1a808e1e",
   "metadata": {},
   "outputs": [],
   "source": [
    "rel_schema = RelationalSchema(tables)"
   ]
  },
  {
   "cell_type": "code",
   "execution_count": 20,
   "id": "afcb30e5",
   "metadata": {},
   "outputs": [],
   "source": [
    "# main algorithm"
   ]
  },
  {
   "cell_type": "code",
   "execution_count": 21,
   "id": "413fcf9d",
   "metadata": {},
   "outputs": [],
   "source": [
    "class GraphSchema:\n",
    "    \n",
    "    def __init__(self, nodeClasses, edgeClasses):\n",
    "        self.nodeClasses = nodeClasses\n",
    "        self.edgeClasses = edgeClasses"
   ]
  },
  {
   "cell_type": "code",
   "execution_count": 22,
   "id": "265630d3",
   "metadata": {},
   "outputs": [],
   "source": [
    "class NodeClass:\n",
    "    def __init__(self, label, attr, pk, nodes):\n",
    "        self.label = label\n",
    "        self.pk = pk\n",
    "        self.nodes = nodes\n",
    "        self.attr = attr\n",
    "\n",
    "class Node:\n",
    "    def __init__(self, label, attr, vals):\n",
    "        self.vals = vals\n",
    "        self.label = label\n",
    "        self.attr = attr\n",
    "\n",
    "class EdgeClass:\n",
    "    def __init__(self, label, source, target, attr, edges):\n",
    "        self.label = label\n",
    "        self.source = source\n",
    "        self.target = target\n",
    "        self.attr = attr\n",
    "        self.edges = edges\n",
    "        \n",
    "class Edge:\n",
    "    def __init__(self, label, source, target, attr=[], vals=[]):\n",
    "        self.label = label\n",
    "        self.source = source\n",
    "        self.target = target\n",
    "        self.attr = attr\n",
    "        self.vals = vals"
   ]
  },
  {
   "cell_type": "code",
   "execution_count": 23,
   "id": "15eaaf5f",
   "metadata": {},
   "outputs": [],
   "source": [
    "from tqdm.notebook import trange, tqdm"
   ]
  },
  {
   "cell_type": "code",
   "execution_count": 24,
   "id": "7c53fb19",
   "metadata": {},
   "outputs": [],
   "source": [
    "def get_idx(attrs, fk, src=True):\n",
    "    for i, a in enumerate(attrs):\n",
    "        if src and a.name == fk.source_attr_name:\n",
    "            return i, a\n",
    "        elif not src and a.name == fk.target_attr_name:\n",
    "            return i, a\n",
    "\n",
    "def fk_from_node(node, fks):\n",
    "    r = []\n",
    "    for fk in fks:\n",
    "        if fk.target_table == node.label:\n",
    "            i, _ = get_idx(node.attr, fk)\n",
    "            r.append(node.vals[i])\n",
    "    return tuple(r)\n",
    "\n",
    "def match_fk(n1, n2, tpl, tbl):\n",
    "    for fk in tbl.fk:\n",
    "        i, _ = get_idx(tbl.attr, fk)\n",
    "        v1 = tpl[i]\n",
    "        \n",
    "        if fk.target_table == n1.label:\n",
    "            i, _ = get_idx(n1.attr, fk, False)\n",
    "            v2 = n1.vals[i]\n",
    "            if v1 != v2:\n",
    "                return False\n",
    "            \n",
    "        if fk.target_table == n2.label:\n",
    "            i, _ = get_idx(n2.attr, fk, False)\n",
    "            v2 = n2.vals[i]\n",
    "            if v1 != v2:\n",
    "                return False\n",
    "    return True\n",
    "\n",
    "\n",
    "def get_nodes(m2m_tbl, tpl, nodeClasses):\n",
    "    src, dst = m2m_tbl.extract_tables()\n",
    "    for nc in nodeClasses:\n",
    "        if nc.label == src:\n",
    "            src_nc = nc\n",
    "        if nc.label == dst:\n",
    "            dst_nc = nc\n",
    "    for n1 in src_nc.nodes:\n",
    "        for n2 in dst_nc.nodes:\n",
    "            if n1.label == src and n2.label == dst and match_fk(n1, n2, tpl, m2m_tbl):\n",
    "                return n1, n2"
   ]
  },
  {
   "cell_type": "code",
   "execution_count": 25,
   "id": "a7328266",
   "metadata": {},
   "outputs": [],
   "source": [
    "def get_nodes_fk(fk, src, nodeClasses):\n",
    "    for nc in nodeClasses:\n",
    "        if nc.label == src:\n",
    "            src_nc = nc\n",
    "        if nc.label == fk.target_table:\n",
    "            dst_nc = nc\n",
    "    \n",
    "    for n1 in src_nc.nodes:\n",
    "        for n2 in dst_nc.nodes:\n",
    "            lhs_i, _ = get_idx(n1.attr, fk)\n",
    "            rhs_i, _ = get_idx(n2.attr, fk, False)\n",
    "            lhs = n1.vals[lhs_i]\n",
    "            rhs = n2.vals[rhs_i]\n",
    "            if lhs == rhs:\n",
    "                yield n1, n2"
   ]
  },
  {
   "cell_type": "code",
   "execution_count": 26,
   "id": "06de7f4c",
   "metadata": {},
   "outputs": [],
   "source": [
    "def relational_to_graph(relSchema):\n",
    "    nodeClasses = []\n",
    "    edgeClasses = []\n",
    "    edges = []\n",
    "    G = nx.DiGraph()\n",
    "    edge_labels = {}\n",
    "    \n",
    "    for name, table in relSchema.tables.items():\n",
    "        if not table.is_m2m():\n",
    "            t = [Node(name, table.attr, tpl) for tpl in table.tuples]\n",
    "            nc = NodeClass(name, table.attr, table.pk, t)\n",
    "            nodeClasses.append(nc)\n",
    "            \n",
    "            G.add_node(name)\n",
    "    \n",
    "    for name, table in relSchema.tables.items():\n",
    "        if table.is_m2m():\n",
    "            edges = []\n",
    "            for tpl in table.tuples:\n",
    "                table.extract_tables()\n",
    "                src, dst = get_nodes(table, tpl, nodeClasses)\n",
    "                edge = Edge(name, src, dst, table.attr, tpl)\n",
    "                edges.append(edge)\n",
    "            src, dst = table.extract_tables()\n",
    "            ec = EdgeClass(name, src, dst, table.attr, edges)\n",
    "            edgeClasses.append(ec)\n",
    "            \n",
    "            G.add_edge(src, dst)\n",
    "            edge_labels[(src, dst)] = name\n",
    "\n",
    "    for name, table in relSchema.tables.items():\n",
    "        if not table.is_m2m():\n",
    "            for fk in table.fk:\n",
    "                dst_tbl = tables[fk.target_table]\n",
    "                edges = []\n",
    "                attrs = [fk.source_attr_name, fk.target_attr_name]\n",
    "                i1, _ = get_idx(table.attr, fk)\n",
    "                i2, _ = get_idx(dst_tbl.attr, fk, False)\n",
    "\n",
    "                edges = []\n",
    "                for n1, n2 in get_nodes_fk(fk, name, nodeClasses):\n",
    "                    vals = [n1.vals[i1], n2.vals[i2]]\n",
    "                    edge = Edge(fk.source_attr_name, n1, n2, attrs, vals)\n",
    "                    edges.append(edge)\n",
    "                ec = EdgeClass(fk.source_attr_name, name, fk.target_table, attrs, edges)\n",
    "                edgeClasses.append(ec)\n",
    "                \n",
    "                G.add_edge(name, fk.target_table)\n",
    "                edge_labels[(name, fk.target_table)] = fk.target_attr_name\n",
    "                \n",
    "    return GraphSchema(nodeClasses, edgeClasses), G, edge_labels"
   ]
  },
  {
   "cell_type": "code",
   "execution_count": 27,
   "id": "6cbe4797",
   "metadata": {},
   "outputs": [],
   "source": [
    "graphSchema, G, edge_labels = relational_to_graph(rel_schema)"
   ]
  },
  {
   "cell_type": "code",
   "execution_count": 28,
   "id": "dff30c33",
   "metadata": {},
   "outputs": [],
   "source": [
    "def graph_to_relational(graphSchema):\n",
    "    tables = {}\n",
    "    \n",
    "    for nc in graphSchema.nodeClasses:\n",
    "        table = Table(nc.label)\n",
    "        table.attr = nc.attr\n",
    "        table.pk = nc.pk\n",
    "        tuples = [node.vals for node in nc.nodes]\n",
    "        table.tuples = tuples\n",
    "        tables[nc.label] = table\n",
    "        \n",
    "    for ec in graphSchema.edgeClasses:\n",
    "        if ec.label in ['customer_customer_demo', 'order_details', 'employee_territories']:\n",
    "            table = Table(ec.label)\n",
    "            table.attr = ec.attr\n",
    "            table.tuples = [edge.vals for edge in ec.edges]\n",
    "            tables[ec.label] = table\n",
    "        elif ec.source == ec.target:\n",
    "            src_tbl = tables[ec.source]\n",
    "            dst_tbl = tables[ec.target]\n",
    "            \n",
    "            for fk in src_tbl.fk:\n",
    "                if fk.target_table == ec.target:\n",
    "                    src_tbl.add_fk(fk.source_attr_name, ec.target, fk.target_attr_name)\n",
    "            src_attr = list(set(map(lambda x: x.name, src_tbl.attr)).intersection(set(ec.attr)))[0]\n",
    "            dst_attr = list(set(map(lambda x: x.name, dst_tbl.attr)).intersection(set(ec.attr)))[1]\n",
    "            src_tbl.add_fk(ec.label, ec.target, next(iter(src_tbl.pk)))\n",
    "            \n",
    "        elif ec.source != ec.target:\n",
    "            src_tbl = tables[ec.source]\n",
    "            dst_tbl = tables[ec.target]\n",
    "            src_attr = list(set(map(lambda x: x.name, src_tbl.attr)).intersection(set(ec.attr)))[0]\n",
    "            dst_attr = list(set(map(lambda x: x.name, dst_tbl.attr)).intersection(set(ec.attr)))[0]\n",
    "            src_tbl.add_fk(src_attr, ec.target, dst_attr)\n",
    "    \n",
    "    return tables"
   ]
  },
  {
   "cell_type": "code",
   "execution_count": 34,
   "id": "4c89d159",
   "metadata": {},
   "outputs": [
    {
     "name": "stdout",
     "output_type": "stream",
     "text": [
      "customer_customer_demo\n",
      "order_details\n",
      "employee_territories\n",
      "region_id\n",
      "customer_id\n",
      "employee_id\n",
      "ship_via\n",
      "reports_to\n",
      "category_id\n",
      "supplier_id\n"
     ]
    }
   ],
   "source": [
    "for e in graphSchema.edgeClasses:\n",
    "    print(e.label)"
   ]
  },
  {
   "cell_type": "code",
   "execution_count": 37,
   "id": "4fff26c5",
   "metadata": {},
   "outputs": [],
   "source": [
    "new_tables = graph_to_relational(graphSchema)"
   ]
  },
  {
   "cell_type": "code",
   "execution_count": 38,
   "id": "2c8047bd",
   "metadata": {},
   "outputs": [
    {
     "data": {
      "text/plain": [
       "{'suppliers': <__main__.Table at 0x12680db50>,\n",
       " 'customer_demographics': <__main__.Table at 0x12680dbb0>,\n",
       " 'territories': <__main__.Table at 0x12680dc70>,\n",
       " 'shippers': <__main__.Table at 0x12680da90>,\n",
       " 'orders': <__main__.Table at 0x12680da60>,\n",
       " 'employees': <__main__.Table at 0x12680dac0>,\n",
       " 'categories': <__main__.Table at 0x12680dd30>,\n",
       " 'customers': <__main__.Table at 0x12680da30>,\n",
       " 'products': <__main__.Table at 0x12680dcd0>,\n",
       " 'region': <__main__.Table at 0x12680d9a0>,\n",
       " 'us_states': <__main__.Table at 0x12680d8e0>,\n",
       " 'customer_customer_demo': <__main__.Table at 0x12680d940>,\n",
       " 'order_details': <__main__.Table at 0x12680d910>,\n",
       " 'employee_territories': <__main__.Table at 0x12680d8b0>}"
      ]
     },
     "execution_count": 38,
     "metadata": {},
     "output_type": "execute_result"
    }
   ],
   "source": [
    "new_tables"
   ]
  },
  {
   "cell_type": "code",
   "execution_count": 39,
   "id": "f772f5e2",
   "metadata": {},
   "outputs": [],
   "source": [
    "for t in graphSchema.edgeClasses:\n",
    "    if t.source == t.target:\n",
    "        break"
   ]
  },
  {
   "cell_type": "code",
   "execution_count": 40,
   "id": "cddb24c7",
   "metadata": {},
   "outputs": [],
   "source": [
    "src_tbl = tables[t.source]\n",
    "dst_tbl = tables[t.target]"
   ]
  },
  {
   "cell_type": "code",
   "execution_count": 41,
   "id": "2bdb6bad",
   "metadata": {},
   "outputs": [
    {
     "data": {
      "text/plain": [
       "[FK(source_attr_name='reports_to', target_table='employees', target_attr_name='employee_id')]"
      ]
     },
     "execution_count": 41,
     "metadata": {},
     "output_type": "execute_result"
    }
   ],
   "source": [
    "src_tbl.fk"
   ]
  },
  {
   "cell_type": "code",
   "execution_count": 42,
   "id": "c2819769",
   "metadata": {},
   "outputs": [
    {
     "data": {
      "text/plain": [
       "[FK(source_attr_name='reports_to', target_table='employees', target_attr_name='employee_id')]"
      ]
     },
     "execution_count": 42,
     "metadata": {},
     "output_type": "execute_result"
    }
   ],
   "source": [
    "tables[\"employees\"].fk"
   ]
  },
  {
   "cell_type": "code",
   "execution_count": 97,
   "id": "b2e89a68",
   "metadata": {},
   "outputs": [
    {
     "data": {
      "text/plain": [
       "[FK(source_attr_name='category_id', target_table='categories', target_attr_name='category_id'),\n",
       " FK(source_attr_name='supplier_id', target_table='suppliers', target_attr_name='supplier_id')]"
      ]
     },
     "execution_count": 97,
     "metadata": {},
     "output_type": "execute_result"
    }
   ],
   "source": [
    "src_tbl.fk"
   ]
  },
  {
   "cell_type": "code",
   "execution_count": 86,
   "id": "28da96c6",
   "metadata": {},
   "outputs": [
    {
     "data": {
      "text/plain": [
       "[FK(source_attr_name='category_id', target_table='categories', target_attr_name='category_id'),\n",
       " FK(source_attr_name='supplier_id', target_table='suppliers', target_attr_name='supplier_id')]"
      ]
     },
     "execution_count": 86,
     "metadata": {},
     "output_type": "execute_result"
    }
   ],
   "source": [
    "new_tables[table_name].fk"
   ]
  },
  {
   "cell_type": "code",
   "execution_count": 89,
   "id": "54b0b2d0",
   "metadata": {},
   "outputs": [
    {
     "data": {
      "text/plain": [
       "'employees'"
      ]
     },
     "execution_count": 89,
     "metadata": {},
     "output_type": "execute_result"
    }
   ],
   "source": [
    "table_name"
   ]
  },
  {
   "cell_type": "code",
   "execution_count": 51,
   "id": "091ccd8f",
   "metadata": {},
   "outputs": [
    {
     "data": {
      "text/plain": [
       "[]"
      ]
     },
     "execution_count": 51,
     "metadata": {},
     "output_type": "execute_result"
    }
   ],
   "source": [
    "new_tables[table_name].fk"
   ]
  },
  {
   "cell_type": "code",
   "execution_count": 174,
   "id": "3b359ae7",
   "metadata": {},
   "outputs": [
    {
     "data": {
      "text/plain": [
       "([FK(source_attr_name='reports_to', target_table='employees', target_attr_name='employee_id')],\n",
       " [FK(source_attr_name='reports_to', target_table='employees', target_attr_name='employee_id')])"
      ]
     },
     "execution_count": 174,
     "metadata": {},
     "output_type": "execute_result"
    }
   ],
   "source": [
    "new_tables[table_name].fk,tables[table_name].fk"
   ]
  },
  {
   "cell_type": "code",
   "execution_count": 43,
   "id": "365d28bc",
   "metadata": {},
   "outputs": [],
   "source": [
    "table_name = 'categories'\n",
    "\n",
    "for table_name in ['products', 'suppliers', 'categories', 'shippers', 'customers', 'orders', 'territories', 'region']:\n",
    "    assert new_tables[table_name].attr == tables[table_name].attr, f\"tuple sets are not equal!, {table_name}\"\n",
    "    assert new_tables[table_name].pk == tables[table_name].pk, f\"primary keys are not equal!, {table_name}\"\n",
    "    assert new_tables[table_name].fk == tables[table_name].fk, f\"foreign keys are not equal!, {table_name}\"\n",
    "    assert new_tables[table_name].tuples == tables[table_name].tuples, f\"tuple sets are not equal!, {table_name}\"\n",
    "    \n",
    "for table_name in ['order_details', 'customer_customer_demo', 'employee_territories']:\n",
    "    assert new_tables[table_name].attr == tables[table_name].attr, f\"tuple sets are not equal!, {table_name}\"\n",
    "#    assert new_tables[table_name].pk == tables[table_name].pk, f\"primary keys are not equal!, {table_name}\"\n",
    "#    assert new_tables[table_name].fk == tables[table_name].fk, f\"foreign keys are not equal!, {table_name}\"\n",
    "    assert new_tables[table_name].tuples == tables[table_name].tuples, f\"tuple sets are not equal!, {table_name}\"\n",
    "    \n",
    "for table_name in ['employees']:\n",
    "    assert new_tables[table_name].attr == tables[table_name].attr, f\"tuple sets are not equal!, {table_name}\"\n",
    "    assert new_tables[table_name].pk == tables[table_name].pk, f\"primary keys are not equal!, {table_name}\"\n",
    "    assert new_tables[table_name].fk == tables[table_name].fk, f\"foreign keys are not equal!, {table_name}\"\n",
    "    assert new_tables[table_name].tuples == tables[table_name].tuples, f\"tuple sets are not equal!, {table_name}\""
   ]
  },
  {
   "cell_type": "code",
   "execution_count": null,
   "id": "384badf3",
   "metadata": {},
   "outputs": [],
   "source": [
    "G = nx.DiGraph()\n",
    "edge_labels = {}\n",
    "\n",
    "nodeClasses = []\n",
    "edges = []\n",
    "edgeClasses = []\n",
    "\n",
    "for name, table in tables.items():\n",
    "    if not table.is_m2m():\n",
    "        t = []\n",
    "        for tpl in table.tuples:\n",
    "            node = Node(name, table.attr, tpl)\n",
    "            t.append(node)\n",
    "        nc = NodeClass(name, table.attr, table.pk, t)\n",
    "        nodeClasses.append(nc)\n",
    "        \n",
    "        G.add_node(name)\n",
    "\n",
    "for name, table in tables.items():\n",
    "    if table.is_m2m():\n",
    "        edges = []\n",
    "        for tpl in table.tuples:\n",
    "            src, dst = get_nodes(table, tpl, nodeClasses)\n",
    "            edge = Edge(name, src, dst, table.attr, tpl)\n",
    "            edges.append(edge)\n",
    "        \n",
    "        src, dst = table.extract_tables()\n",
    "        ex = EdgeClass(name, src, dst, table.attr, edges)\n",
    "        \n",
    "        G.add_edge(src, dst)\n",
    "        edge_labels[(src, dst)] = name\n",
    "        \n",
    "for name, table in tables.items():\n",
    "    if not table.is_m2m():\n",
    "        for fk in table.fk:\n",
    "            edges = []\n",
    "            \n",
    "            G.add_edge(name, fk.target_table)\n",
    "            \n",
    "            if name != 'employees':\n",
    "                edge_labels[(name, fk.target_table)] = name + \"-to-\" + fk.target_table\n",
    "\n",
    "graph_schema = GraphSchema(nodes, edges)"
   ]
  },
  {
   "cell_type": "code",
   "execution_count": null,
   "id": "a7b54118",
   "metadata": {},
   "outputs": [],
   "source": [
    "graph_schema"
   ]
  },
  {
   "cell_type": "code",
   "execution_count": 183,
   "id": "3df6cafa",
   "metadata": {},
   "outputs": [
    {
     "data": {
      "text/plain": [
       "{('customer_demographics',\n",
       "  'customers'): Text(-1.1428571428571428, -0.21428571428571427, 'customer_customer_demo'),\n",
       " ('orders',\n",
       "  'products'): Text(1.4107142857142856, -0.4107142857142857, 'order_details'),\n",
       " ('employees',\n",
       "  'territories'): Text(-0.25892857142857145, 0.4732142857142857, 'employee_territories'),\n",
       " ('territories', 'region'): Text(-0.5535714285714286, 0.375, 'region_id'),\n",
       " ('orders', 'customers'): Text(-0.0625, -0.11607142857142856, 'customer_id'),\n",
       " ('orders',\n",
       "  'employees'): Text(0.3303571428571428, 0.08035714285714286, 'employee_id'),\n",
       " ('orders',\n",
       "  'shippers'): Text(0.42857142857142855, 0.17857142857142855, 'shipper_id'),\n",
       " ('employees', 'employees'): Text(-0.16071428571428575, 0.375, 'employee_id'),\n",
       " ('products',\n",
       "  'categories'): Text(1.6071428571428572, -0.21428571428571425, 'category_id'),\n",
       " ('products',\n",
       "  'suppliers'): Text(0.2321428571428571, -0.6071428571428571, 'supplier_id')}"
      ]
     },
     "execution_count": 183,
     "metadata": {},
     "output_type": "execute_result"
    },
    {
     "data": {
      "image/png": "[encoded data removed]",
      "text/plain": [
       "<Figure size 1080x1080 with 1 Axes>"
      ]
     },
     "metadata": {},
     "output_type": "display_data"
    }
   ],
   "source": [
    "pos = nx.planar_layout(G, scale=2)\n",
    "plt.figure(figsize=(15, 15))    \n",
    "nx.draw(G,pos,edge_color='black',width=1,linewidths=1,\\\n",
    "node_size=1000,node_color='pink',alpha=0.9,\\\n",
    "labels={node:node for node in G.nodes()}, font_size=15)\n",
    "nx.draw_networkx_edge_labels(G, pos, edge_labels=edge_labels, font_size=10)"
   ]
  },
  {
   "cell_type": "code",
   "execution_count": 51,
   "id": "2320f5a0",
   "metadata": {},
   "outputs": [],
   "source": [
    "STR_TYPES = {\n",
    "    'character varying',\n",
    "    'text',\n",
    "    'bpchar',\n",
    "    'character',\n",
    "    'bytea',\n",
    "    'date'\n",
    "}"
   ]
  },
  {
   "cell_type": "code",
   "execution_count": 52,
   "id": "ae654a3e",
   "metadata": {},
   "outputs": [],
   "source": [
    "create_node_tpl = \"\"\"CREATE (:{} {{{}}});\"\"\"\n",
    "\n",
    "\n",
    "def format_attrs(attr, values):\n",
    "    pairs = []\n",
    "    for a, v in zip(attr, values):\n",
    "        if v is None:\n",
    "            continue\n",
    "        \n",
    "        if a.data_type in STR_TYPES:\n",
    "            v = '\"{}\"'.format(v)\n",
    "        else:\n",
    "            v = '{}'.format(v)\n",
    "        payload = str(a.name) + \": \" + v\n",
    "        pairs.append(payload)\n",
    "        \n",
    "    payload = \", \".join(pairs)\n",
    "    return payload\n",
    "\n",
    "\n",
    "def generate_neo4j_inserts(table):\n",
    "    inserts = []\n",
    "    \n",
    "    for row in table.tuples:\n",
    "        payload = format_attrs(table.attr, row)\n",
    "        q = create_node_tpl.format(table.name, payload)\n",
    "        inserts.append(q)\n",
    "        \n",
    "    return inserts\n",
    "\n",
    "\n",
    "def get_idx(attrs, fk):\n",
    "    for i, a in enumerate(attrs):\n",
    "        if a.name == fk.source_attr_name:\n",
    "            return i, a"
   ]
  },
  {
   "cell_type": "code",
   "execution_count": 53,
   "id": "6302b5b6",
   "metadata": {},
   "outputs": [],
   "source": [
    "edge_w_attr_creation_tpl = \"\"\"\n",
    "    MATCH (a:{0}), (b:{1})\n",
    "    WHERE a.{2} = {3} AND b.{4} = {5}\n",
    "    CREATE (a)-[:{6}]->(b)\n",
    "\"\"\"\n",
    "\n",
    "drop_q = \"\"\"MATCH (n) DETACH DELETE n;\"\"\"\n",
    "\n",
    "edge_creation_tpl = \"\"\"MATCH (a:{0}), (b:{1}) WHERE a.{2} = b.{3} CREATE (a)-[:{4}]->(b);\"\"\"\n",
    "edge_w_attr_creation_tpl = \"\"\"MATCH (a:{0}), (b:{1}) WHERE a.{2} = {3} AND b.{4} = {5} CREATE (a)-[:{6} {{{7}}}]->(b);\"\"\"\n"
   ]
  },
  {
   "cell_type": "code",
   "execution_count": 54,
   "id": "5fc09c37",
   "metadata": {},
   "outputs": [],
   "source": [
    "pk_constraint_q_tpl = \"CREATE CONSTRAINT ON (node:{}) ASSERT node.{} IS UNIQUE;\""
   ]
  },
  {
   "cell_type": "code",
   "execution_count": 66,
   "id": "486e618d",
   "metadata": {},
   "outputs": [],
   "source": [
    "drop_constraints_q = \"CALL apoc.schema.assert({}, {});\""
   ]
  },
  {
   "cell_type": "code",
   "execution_count": 61,
   "id": "460d4041",
   "metadata": {},
   "outputs": [],
   "source": [
    "table = tables[\"suppliers\"]"
   ]
  },
  {
   "cell_type": "code",
   "execution_count": 62,
   "id": "a523a5d8",
   "metadata": {},
   "outputs": [],
   "source": [
    "pk = list(table.pk)[0]\n",
    "pk_constraint_q = pk_constraint_q_tpl.format(table.name, pk)"
   ]
  },
  {
   "cell_type": "code",
   "execution_count": 63,
   "id": "300721a6",
   "metadata": {},
   "outputs": [
    {
     "data": {
      "text/plain": [
       "'CREATE CONSTRAINT ON (node:suppliers) ASSERT node.supplier_id IS UNIQUE;'"
      ]
     },
     "execution_count": 63,
     "metadata": {},
     "output_type": "execute_result"
    }
   ],
   "source": [
    "pk_constraint_q"
   ]
  },
  {
   "cell_type": "code",
   "execution_count": 36,
   "id": "968c8352",
   "metadata": {},
   "outputs": [
    {
     "name": "stdout",
     "output_type": "stream",
     "text": [
      "suppliers False [] {'supplier_id'}\n",
      "customer_demographics False [] {'customer_type_id'}\n",
      "territories False [FK(source_attr_name='region_id', target_table='region', target_attr_name='region_id')] {'territory_id'}\n",
      "shippers False [] {'shipper_id'}\n",
      "orders False [FK(source_attr_name='customer_id', target_table='customers', target_attr_name='customer_id'), FK(source_attr_name='employee_id', target_table='employees', target_attr_name='employee_id'), FK(source_attr_name='ship_via', target_table='shippers', target_attr_name='shipper_id')] {'order_id'}\n",
      "customer_customer_demo True [FK(source_attr_name='customer_type_id', target_table='customer_demographics', target_attr_name='customer_type_id'), FK(source_attr_name='customer_id', target_table='customers', target_attr_name='customer_id')] {'customer_type_id', 'customer_id'}\n",
      "order_details True [FK(source_attr_name='product_id', target_table='products', target_attr_name='product_id'), FK(source_attr_name='order_id', target_table='orders', target_attr_name='order_id')] {'product_id', 'order_id'}\n",
      "employees False [FK(source_attr_name='reports_to', target_table='employees', target_attr_name='employee_id')] {'employee_id'}\n",
      "categories False [] {'category_id'}\n",
      "employee_territories True [FK(source_attr_name='territory_id', target_table='territories', target_attr_name='territory_id'), FK(source_attr_name='employee_id', target_table='employees', target_attr_name='employee_id')] {'employee_id', 'territory_id'}\n",
      "customers False [] {'customer_id'}\n",
      "products False [FK(source_attr_name='category_id', target_table='categories', target_attr_name='category_id'), FK(source_attr_name='supplier_id', target_table='suppliers', target_attr_name='supplier_id')] {'product_id'}\n",
      "region False [] {'region_id'}\n",
      "us_states False [] {'state_id'}\n"
     ]
    }
   ],
   "source": [
    "for k, v in tables.items():\n",
    "    print(k, v.is_m2m(), v.fk, v.pk)"
   ]
  },
  {
   "cell_type": "code",
   "execution_count": 34,
   "id": "466d8780",
   "metadata": {},
   "outputs": [
    {
     "data": {
      "text/plain": [
       "'us_states'"
      ]
     },
     "execution_count": 34,
     "metadata": {},
     "output_type": "execute_result"
    }
   ],
   "source": [
    "v.name"
   ]
  },
  {
   "cell_type": "code",
   "execution_count": 67,
   "id": "a36d9bf1",
   "metadata": {},
   "outputs": [],
   "source": [
    "\n",
    "with open(\"/Users/a.palagashvili/coursework/neo4j/queries/tmp.cypher\", \"w\") as out:\n",
    "    out.write(drop_q + \"\\n\\n\")\n",
    "    out.write(drop_constraints_q + \"\\n\\n\")\n",
    "    \n",
    "    for _, table in tables.items():\n",
    "        if not table.is_m2m():\n",
    "            inserts = generate_neo4j_inserts(table)\n",
    "            for line in inserts:\n",
    "                out.write(line + \"\\n\")\n",
    "\n",
    "            pk = list(table.pk)[0]\n",
    "            pk_constraint_q = pk_constraint_q_tpl.format(table.name, pk)\n",
    "\n",
    "            out.write(pk_constraint_q + \"\\n\")\n",
    "                \n",
    "            out.write(\"\\n\\n\")\n",
    "            \n",
    "    for _, table in tables.items():\n",
    "        if not table.is_m2m():\n",
    "            for fk in table.fk:\n",
    "                edge_creation_q = edge_creation_tpl.format(\n",
    "                    table.name, \n",
    "                    fk.target_table,\n",
    "                    fk.source_attr_name,\n",
    "                    fk.target_attr_name,\n",
    "                    fk.source_attr_name,\n",
    "                )\n",
    "                \n",
    "                out.write(edge_creation_q + \"\\n\")\n",
    "\n",
    "                \n",
    "    for _, table in tables.items():\n",
    "        for row in table.tuples:\n",
    "            if table.is_m2m():\n",
    "                fk1, fk2 = table.fk\n",
    "                fk1_idx, lhs_a = get_idx(table.attr, fk1)\n",
    "                fk2_idx, rhs_a = get_idx(table.attr, fk2)\n",
    "\n",
    "                lhs_val = row[fk1_idx]\n",
    "                rhs_val = row[fk2_idx]\n",
    "\n",
    "                if lhs_a.data_type in STR_TYPES:\n",
    "                    lhs_val = '\"{}\"'.format(lhs_val)\n",
    "\n",
    "                if rhs_a.data_type in STR_TYPES:\n",
    "                    rhs_val = '\"{}\"'.format(rhs_val)\n",
    "\n",
    "                q = edge_w_attr_creation_tpl.format(\n",
    "                    fk1.target_table,\n",
    "                    fk2.target_table,\n",
    "                    fk1.target_attr_name,\n",
    "                    lhs_val,\n",
    "                    fk2.target_attr_name,\n",
    "                    rhs_val,\n",
    "                    table.name,\n",
    "                    format_attrs(table.attr, row)\n",
    "                )\n",
    "                \n",
    "                out.write(q + \"\\n\")\n",
    "        out.write(\"\\n\\n\")"
   ]
  },
  {
   "cell_type": "code",
   "execution_count": 1032,
   "id": "571c2439",
   "metadata": {},
   "outputs": [],
   "source": [
    "def get_idx(attrs, fk):\n",
    "    for i, a in enumerate(attrs):\n",
    "        if a.name == fk.source_attr_name:\n",
    "            return i, a"
   ]
  },
  {
   "cell_type": "code",
   "execution_count": 1035,
   "id": "821f60af",
   "metadata": {},
   "outputs": [
    {
     "data": {
      "text/plain": [
       "Attr(name='territory_id', data_type='character varying', nullable=False)"
      ]
     },
     "execution_count": 1035,
     "metadata": {},
     "output_type": "execute_result"
    }
   ],
   "source": [
    "lhs_a"
   ]
  },
  {
   "cell_type": "code",
   "execution_count": 1038,
   "id": "96b24c5d",
   "metadata": {},
   "outputs": [
    {
     "data": {
      "text/plain": [
       "'MATCH (a:territories), (b:employees) WHERE a.territory_id = \"55439\" AND b.employee_id = 9 CREATE (a)-[:employee_territories {employee_id: 9, territory_id: \"55439\"}]->(b);'"
      ]
     },
     "execution_count": 1038,
     "metadata": {},
     "output_type": "execute_result"
    }
   ],
   "source": [
    "q"
   ]
  },
  {
   "cell_type": "code",
   "execution_count": 406,
   "id": "bb5f4b1e",
   "metadata": {},
   "outputs": [],
   "source": [
    "import re"
   ]
  },
  {
   "cell_type": "code",
   "execution_count": 809,
   "id": "88d191fe",
   "metadata": {},
   "outputs": [],
   "source": [
    "drop_q = \"\"\"MATCH (n) DETACH DELETE n\"\"\""
   ]
  },
  {
   "cell_type": "code",
   "execution_count": 810,
   "id": "70d373ec",
   "metadata": {},
   "outputs": [
    {
     "data": {
      "text/plain": [
       "'MATCH (n) DETACH DELETE n'"
      ]
     },
     "execution_count": 810,
     "metadata": {},
     "output_type": "execute_result"
    }
   ],
   "source": [
    "drop_q"
   ]
  },
  {
   "cell_type": "code",
   "execution_count": 781,
   "id": "363a8401",
   "metadata": {},
   "outputs": [],
   "source": [
    "def format_attrs(attr, values):\n",
    "    pairs = []\n",
    "    for a, v in zip(attr, values):\n",
    "        if v == \"NULL\":\n",
    "            continue\n",
    "        \n",
    "        if a.data_type in STR_TYPES:\n",
    "            v = '\"{}\"'.format(v)\n",
    "        payload = str(a.name) + \": \" + v\n",
    "        pairs.append(payload)\n",
    "        \n",
    "    payload = \", \".join(pairs)\n",
    "    return payload"
   ]
  },
  {
   "cell_type": "code",
   "execution_count": 816,
   "id": "4f6083fa",
   "metadata": {},
   "outputs": [],
   "source": [
    "create_node_tpl = \"\"\"CREATE (:{} {{{}}});\"\"\""
   ]
  },
  {
   "cell_type": "code",
   "execution_count": 817,
   "id": "9e8f1cd0",
   "metadata": {},
   "outputs": [],
   "source": [
    "insertions = []\n",
    "node_creations = [drop_q, \"\\n\\n\"]\n",
    "pattern = \"VALUES (.+?);\"\n",
    "\n",
    "p = None\n",
    "for line in open(\"/Users/a.palagashvili/coursework/psql/queries/migrations.sql\"):\n",
    "    line = line.strip()\n",
    "    if 'INSERT' in line:\n",
    "        table_name = line.split(\" \")[2]\n",
    "        \n",
    "        if p is not None and p != table_name:\n",
    "            node_creations.append(\"\\n\\n\")\n",
    "        p = table_name\n",
    "        \n",
    "        table = tables[table_name]\n",
    "        \n",
    "        if table.is_m2m():\n",
    "            continue\n",
    "        \n",
    "        attr = table.attr\n",
    "\n",
    "        txt = re.search(pattern, line).group(0)[8:-2]\n",
    "        values = [val for val in csv.reader([txt], skipinitialspace=True, quotechar=\"'\")][0]\n",
    "        payload = format_attrs(attr, values)\n",
    "        node_creations.append(create_node_tpl.format(table_name, payload))\n",
    "        insertions.append(line)"
   ]
  },
  {
   "cell_type": "code",
   "execution_count": 818,
   "id": "2ecdcb9a",
   "metadata": {},
   "outputs": [],
   "source": [
    "with open(\"/Users/a.palagashvili/coursework/neo4j/queries/migrations.cypher\", \"w\") as out:\n",
    "    for line in node_creations: \n",
    "        out.write(line + \"\\n\")"
   ]
  },
  {
   "cell_type": "code",
   "execution_count": 702,
   "id": "3eb53e0e",
   "metadata": {},
   "outputs": [
    {
     "data": {
      "text/plain": [
       "['\\nCREATE (n:categories {category_id: 1, category_name: \"Beverages\", description: \"Soft drinks, coffees, teas, beers, and ales\", picture: \\\\x});\\n']"
      ]
     },
     "execution_count": 702,
     "metadata": {},
     "output_type": "execute_result"
    }
   ],
   "source": [
    "node_creations"
   ]
  },
  {
   "cell_type": "code",
   "execution_count": 651,
   "id": "35b37346",
   "metadata": {},
   "outputs": [
    {
     "data": {
      "text/plain": [
       "'\\\\x'"
      ]
     },
     "execution_count": 651,
     "metadata": {},
     "output_type": "execute_result"
    }
   ],
   "source": [
    "values[3]"
   ]
  },
  {
   "cell_type": "code",
   "execution_count": 684,
   "id": "d3b299c7",
   "metadata": {},
   "outputs": [],
   "source": [
    "values = re.search(pattern, line).group(0)[1:-1]"
   ]
  },
  {
   "cell_type": "code",
   "execution_count": 685,
   "id": "8334cd0d",
   "metadata": {},
   "outputs": [
    {
     "data": {
      "text/plain": [
       "\"1, 'Beverages', 'Soft drinks, coffees, teas, beers, and ales', '\\\\x'\""
      ]
     },
     "execution_count": 685,
     "metadata": {},
     "output_type": "execute_result"
    }
   ],
   "source": [
    "values"
   ]
  },
  {
   "cell_type": "code",
   "execution_count": 666,
   "id": "c7c87ea3",
   "metadata": {},
   "outputs": [],
   "source": [
    "from io import StringIO"
   ]
  },
  {
   "cell_type": "code",
   "execution_count": 686,
   "id": "c7304013",
   "metadata": {},
   "outputs": [
    {
     "data": {
      "text/plain": [
       "\"1, 'Beverages', 'Soft drinks, coffees, teas, beers, and ales', '\\\\x'\""
      ]
     },
     "execution_count": 686,
     "metadata": {},
     "output_type": "execute_result"
    }
   ],
   "source": [
    "values"
   ]
  },
  {
   "cell_type": "code",
   "execution_count": 690,
   "id": "f93533dc",
   "metadata": {},
   "outputs": [
    {
     "data": {
      "text/plain": [
       "\"1, 'Beverages', 'Soft drinks, coffees, teas, beers, and ales', '\\\\x'\""
      ]
     },
     "execution_count": 690,
     "metadata": {},
     "output_type": "execute_result"
    }
   ],
   "source": [
    "values"
   ]
  },
  {
   "cell_type": "code",
   "execution_count": 687,
   "id": "879465b6",
   "metadata": {},
   "outputs": [
    {
     "name": "stdout",
     "output_type": "stream",
     "text": [
      "['1', 'Beverages', 'Soft drinks, coffees, teas, beers, and ales', '\\\\x']\n"
     ]
    }
   ],
   "source": [
    "vals = []\n",
    "val_io = StringIO(values)\n",
    "for val in csv.reader(val_io, skipinitialspace=True, quotechar=\"'\", quoting=csv.QUOTE_ALL):\n",
    "    print(val)\n",
    "    vals.append(val)"
   ]
  },
  {
   "cell_type": "code",
   "execution_count": 639,
   "id": "3783793e",
   "metadata": {},
   "outputs": [],
   "source": [
    "import pandas as pd"
   ]
  },
  {
   "cell_type": "code",
   "execution_count": 688,
   "id": "bd7c6a16",
   "metadata": {},
   "outputs": [
    {
     "data": {
      "text/plain": [
       "['1', 'Beverages', 'Soft drinks, coffees, teas, beers, and ales', '\\\\x']"
      ]
     },
     "execution_count": 688,
     "metadata": {},
     "output_type": "execute_result"
    }
   ],
   "source": [
    "val"
   ]
  },
  {
   "cell_type": "code",
   "execution_count": 69,
   "id": "7f485f68",
   "metadata": {},
   "outputs": [
    {
     "name": "stdout",
     "output_type": "stream",
     "text": [
      "suppliers {'supplier_id'}\n",
      "customer_demographics {'customer_type_id'}\n",
      "territories {'territory_id'}\n",
      "shippers {'shipper_id'}\n",
      "orders {'order_id'}\n",
      "customer_customer_demo {'customer_type_id', 'customer_id'}\n",
      "order_details {'product_id', 'order_id'}\n",
      "employees {'employee_id'}\n",
      "categories {'category_id'}\n",
      "employee_territories {'employee_id', 'territory_id'}\n",
      "customers {'customer_id'}\n",
      "products {'product_id'}\n",
      "region {'region_id'}\n",
      "us_states {'state_id'}\n"
     ]
    }
   ],
   "source": [
    "for _, table in tables.items():\n",
    "    print(table.name, table.pk)"
   ]
  },
  {
   "cell_type": "code",
   "execution_count": 608,
   "id": "e6ebda9b",
   "metadata": {},
   "outputs": [
    {
     "data": {
      "text/plain": [
       "[\"\\nCREATE (n:categories {category_id: 1, category_name:  'Beverages', description:  'Soft drinks, picture:  coffees});\\n\",\n",
       " \"\\nCREATE (n:categories {category_id: 2, category_name:  'Condiments', description:  'Sweet and savory sauces, picture:  relishes});\\n\",\n",
       " \"\\nCREATE (n:categories {category_id: 3, category_name:  'Confections', description:  'Desserts, picture:  candies});\\n\",\n",
       " \"\\nCREATE (n:categories {category_id: 4, category_name:  'Dairy Products', description:  'Cheeses', picture:  '\\\\x'});\\n\",\n",
       " \"\\nCREATE (n:categories {category_id: 5, category_name:  'Grains/Cereals', description:  'Breads, picture:  crackers});\\n\",\n",
       " \"\\nCREATE (n:categories {category_id: 6, category_name:  'Meat/Poultry', description:  'Prepared meats', picture:  '\\\\x'});\\n\",\n",
       " \"\\nCREATE (n:categories {category_id: 7, category_name:  'Produce', description:  'Dried fruit and bean curd', picture:  '\\\\x'});\\n\",\n",
       " \"\\nCREATE (n:categories {category_id: 8, category_name:  'Seafood', description:  'Seaweed and fish', picture:  '\\\\x'});\\n\"]"
      ]
     },
     "execution_count": 608,
     "metadata": {},
     "output_type": "execute_result"
    }
   ],
   "source": [
    "node_creations"
   ]
  },
  {
   "cell_type": "code",
   "execution_count": 606,
   "id": "c4865675",
   "metadata": {},
   "outputs": [
    {
     "data": {
      "text/plain": [
       "\"category_id: 8, category_name:  'Seafood', description:  'Seaweed and fish', picture:  '\\\\x'\""
      ]
     },
     "execution_count": 606,
     "metadata": {},
     "output_type": "execute_result"
    }
   ],
   "source": [
    "payload"
   ]
  },
  {
   "cell_type": "code",
   "execution_count": 605,
   "id": "fa96a6f8",
   "metadata": {},
   "outputs": [
    {
     "data": {
      "text/plain": [
       "['8', \" 'Seafood'\", \" 'Seaweed and fish'\", \" '\\\\x'\"]"
      ]
     },
     "execution_count": 605,
     "metadata": {},
     "output_type": "execute_result"
    }
   ],
   "source": [
    "values"
   ]
  },
  {
   "cell_type": "code",
   "execution_count": 596,
   "id": "75f68352",
   "metadata": {},
   "outputs": [],
   "source": [
    "import csv"
   ]
  },
  {
   "cell_type": "code",
   "execution_count": 585,
   "id": "de8ff5ef",
   "metadata": {},
   "outputs": [],
   "source": [
    "\n",
    "from csv import reader"
   ]
  },
  {
   "cell_type": "code",
   "execution_count": 591,
   "id": "1e2a8483",
   "metadata": {},
   "outputs": [
    {
     "data": {
      "text/plain": [
       "\"'Seafood'\""
      ]
     },
     "execution_count": 591,
     "metadata": {},
     "output_type": "execute_result"
    }
   ],
   "source": [
    "val[1].strip()"
   ]
  },
  {
   "cell_type": "code",
   "execution_count": 593,
   "id": "c14e1384",
   "metadata": {},
   "outputs": [
    {
     "data": {
      "text/plain": [
       "\" '\\\\x'\""
      ]
     },
     "execution_count": 593,
     "metadata": {},
     "output_type": "execute_result"
    }
   ],
   "source": [
    "val[3]"
   ]
  },
  {
   "cell_type": "code",
   "execution_count": 602,
   "id": "a92facf0",
   "metadata": {},
   "outputs": [
    {
     "data": {
      "text/plain": [
       "0"
      ]
     },
     "execution_count": 602,
     "metadata": {},
     "output_type": "execute_result"
    }
   ],
   "source": [
    "reader([values])"
   ]
  },
  {
   "cell_type": "code",
   "execution_count": 597,
   "id": "976b482e",
   "metadata": {},
   "outputs": [
    {
     "name": "stdout",
     "output_type": "stream",
     "text": [
      "['8', \" 'Seafood'\", \" 'Seaweed and fish'\", \" '\\\\x'\"]\n"
     ]
    }
   ],
   "source": [
    "for val in csv.reader([values], skipinitialspace=False,delimiter=',', quoting=csv.QUOTE_NONE):\n",
    "    print(val)"
   ]
  },
  {
   "cell_type": "code",
   "execution_count": 584,
   "id": "28a2b7c7",
   "metadata": {},
   "outputs": [
    {
     "data": {
      "text/plain": [
       "[\"8, 'Seafood', 'Seaweed and fish', '\\\\x'\"]"
      ]
     },
     "execution_count": 584,
     "metadata": {},
     "output_type": "execute_result"
    }
   ],
   "source": [
    "re.split(r\",(?=')\", values)"
   ]
  },
  {
   "cell_type": "code",
   "execution_count": 581,
   "id": "e87bba1c",
   "metadata": {},
   "outputs": [
    {
     "name": "stdout",
     "output_type": "stream",
     "text": [
      "Attr(name='category_id', data_type='smallint', nullable=False) 8, 'Seafood', 'Seaweed and fish', '\\x'\n"
     ]
    }
   ],
   "source": [
    "for a, v in zip(attr, values):\n",
    "    print(a, v)"
   ]
  },
  {
   "cell_type": "code",
   "execution_count": 579,
   "id": "701fa7f8",
   "metadata": {},
   "outputs": [
    {
     "data": {
      "text/plain": [
       "[Attr(name='category_id', data_type='smallint', nullable=False),\n",
       " Attr(name='category_name', data_type='character varying', nullable=False),\n",
       " Attr(name='description', data_type='text', nullable=True),\n",
       " Attr(name='picture', data_type='bytea', nullable=True)]"
      ]
     },
     "execution_count": 579,
     "metadata": {},
     "output_type": "execute_result"
    }
   ],
   "source": [
    "attr"
   ]
  },
  {
   "cell_type": "code",
   "execution_count": 576,
   "id": "c9eeea8d",
   "metadata": {},
   "outputs": [
    {
     "data": {
      "text/plain": [
       "[\"\\nCREATE (n:categories {category_id: 1, 'Beverages', 'Soft drinks, coffees, teas, beers, and ales', '\\\\x'});\\n\",\n",
       " \"\\nCREATE (n:categories {category_id: 2, 'Condiments', 'Sweet and savory sauces, relishes, spreads, and seasonings', '\\\\x'});\\n\",\n",
       " \"\\nCREATE (n:categories {category_id: 3, 'Confections', 'Desserts, candies, and sweet breads', '\\\\x'});\\n\",\n",
       " \"\\nCREATE (n:categories {category_id: 4, 'Dairy Products', 'Cheeses', '\\\\x'});\\n\",\n",
       " \"\\nCREATE (n:categories {category_id: 5, 'Grains/Cereals', 'Breads, crackers, pasta, and cereal', '\\\\x'});\\n\",\n",
       " \"\\nCREATE (n:categories {category_id: 6, 'Meat/Poultry', 'Prepared meats', '\\\\x'});\\n\",\n",
       " \"\\nCREATE (n:categories {category_id: 7, 'Produce', 'Dried fruit and bean curd', '\\\\x'});\\n\",\n",
       " \"\\nCREATE (n:categories {category_id: 8, 'Seafood', 'Seaweed and fish', '\\\\x'});\\n\"]"
      ]
     },
     "execution_count": 576,
     "metadata": {},
     "output_type": "execute_result"
    }
   ],
   "source": [
    "node_creations"
   ]
  },
  {
   "cell_type": "code",
   "execution_count": 480,
   "id": "e5631475",
   "metadata": {},
   "outputs": [
    {
     "data": {
      "text/plain": [
       "\"51, 'Wyoming', 'WY', 'west'\""
      ]
     },
     "execution_count": 480,
     "metadata": {},
     "output_type": "execute_result"
    }
   ],
   "source": [
    "values"
   ]
  },
  {
   "cell_type": "code",
   "execution_count": 479,
   "id": "f4ba40dd",
   "metadata": {},
   "outputs": [
    {
     "data": {
      "text/plain": [
       "{'state_id': Attr(name='state_id', data_type='smallint', nullable=False),\n",
       " 'state_name': Attr(name='state_name', data_type='character varying', nullable=True),\n",
       " 'state_abbr': Attr(name='state_abbr', data_type='character varying', nullable=True),\n",
       " 'state_region': Attr(name='state_region', data_type='character varying', nullable=True)}"
      ]
     },
     "execution_count": 479,
     "metadata": {},
     "output_type": "execute_result"
    }
   ],
   "source": [
    "attr"
   ]
  },
  {
   "cell_type": "code",
   "execution_count": 431,
   "id": "f76836a3",
   "metadata": {},
   "outputs": [
    {
     "data": {
      "text/plain": [
       "'us_states'"
      ]
     },
     "execution_count": 431,
     "metadata": {},
     "output_type": "execute_result"
    }
   ],
   "source": [
    "table_name"
   ]
  },
  {
   "cell_type": "code",
   "execution_count": 475,
   "id": "30408952",
   "metadata": {},
   "outputs": [
    {
     "data": {
      "text/plain": [
       "\"51, 'Wyoming', 'WY', 'west'\""
      ]
     },
     "execution_count": 475,
     "metadata": {},
     "output_type": "execute_result"
    }
   ],
   "source": [
    "values"
   ]
  },
  {
   "cell_type": "code",
   "execution_count": 405,
   "id": "01d9c3e7",
   "metadata": {},
   "outputs": [
    {
     "data": {
      "text/plain": [
       "'--'"
      ]
     },
     "execution_count": 405,
     "metadata": {},
     "output_type": "execute_result"
    }
   ],
   "source": [
    "line"
   ]
  },
  {
   "cell_type": "code",
   "execution_count": 411,
   "id": "ea9effc4",
   "metadata": {},
   "outputs": [
    {
     "data": {
      "text/plain": [
       "\"INSERT INTO categories VALUES (1, 'Beverages', 'Soft drinks, coffees, teas, beers, and ales', '\\\\x');\""
      ]
     },
     "execution_count": 411,
     "metadata": {},
     "output_type": "execute_result"
    }
   ],
   "source": [
    "e"
   ]
  },
  {
   "cell_type": "code",
   "execution_count": 425,
   "id": "ab18ebf3",
   "metadata": {},
   "outputs": [],
   "source": [
    "table_name = e.split(\" \")[2]"
   ]
  },
  {
   "cell_type": "code",
   "execution_count": 428,
   "id": "8e6bedd5",
   "metadata": {},
   "outputs": [
    {
     "data": {
      "text/plain": [
       "'us_states'"
      ]
     },
     "execution_count": 428,
     "metadata": {},
     "output_type": "execute_result"
    }
   ],
   "source": [
    "table_name"
   ]
  },
  {
   "cell_type": "code",
   "execution_count": 407,
   "id": "d7c4ce60",
   "metadata": {},
   "outputs": [],
   "source": [
    "e = insertions[0]"
   ]
  },
  {
   "cell_type": "code",
   "execution_count": 419,
   "id": "d46a0c93",
   "metadata": {},
   "outputs": [],
   "source": [
    "pattern = \"\\(.+?\\)\""
   ]
  },
  {
   "cell_type": "code",
   "execution_count": 422,
   "id": "0fbd80ec",
   "metadata": {},
   "outputs": [],
   "source": [
    "found = re.search(pattern, e).group(0)[1:-1]"
   ]
  },
  {
   "cell_type": "code",
   "execution_count": 423,
   "id": "de7de795",
   "metadata": {},
   "outputs": [
    {
     "data": {
      "text/plain": [
       "\"1, 'Beverages', 'Soft drinks, coffees, teas, beers, and ales', '\\\\x'\""
      ]
     },
     "execution_count": 423,
     "metadata": {},
     "output_type": "execute_result"
    }
   ],
   "source": [
    "found"
   ]
  },
  {
   "cell_type": "code",
   "execution_count": null,
   "id": "2fac866b",
   "metadata": {},
   "outputs": [],
   "source": []
  }
 ],
 "metadata": {
  "kernelspec": {
   "display_name": "Python 3 (ipykernel)",
   "language": "python",
   "name": "python3"
  },
  "language_info": {
   "codemirror_mode": {
    "name": "ipython",
    "version": 3
   },
   "file_extension": ".py",
   "mimetype": "text/x-python",
   "name": "python",
   "nbconvert_exporter": "python",
   "pygments_lexer": "ipython3",
   "version": "3.9.12"
  }
 },
 "nbformat": 4,
 "nbformat_minor": 5
}
